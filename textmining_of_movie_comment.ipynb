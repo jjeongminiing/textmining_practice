{
 "cells": [
  {
   "cell_type": "code",
   "execution_count": 1,
   "metadata": {},
   "outputs": [
    {
     "name": "stdout",
     "output_type": "stream",
     "text": [
      "45290\t크리스토퍼 놀란 에게 우리는 놀란 다\t10\n",
      "45290\t인셉션 정말 흥미진진하게 봤었고 크리스토퍼 놀란 감독님 신작 인터스텔라도 이번주 일요일에 보러갑니다 완전 기대중\t10\n",
      "45290\t놀란이면 무조건 봐야 된다 왜냐하면 모든 작품을 다 히트 쳤으니깐\t10\n",
      "45290\t나는 감탄할 준비가 되어있다\t10\n",
      "45290\t얘들아 오늘나오는거지 밤에 ㅋㅋ 오늘 보러가야겟다\t10\n"
     ]
    }
   ],
   "source": [
    "#데이터 및 튜토리얼 출처 : https://github.com/lovit/\n",
    "rawtext_fname = 'C:/Users/hp/Desktop/navermovie_comments/data/data_small.txt'\n",
    "with open(rawtext_fname, encoding='utf-8') as f:\n",
    "    for _ in range(5):\n",
    "        print(next(f).strip())"
   ]
  },
  {
   "cell_type": "code",
   "execution_count": 2,
   "metadata": {},
   "outputs": [],
   "source": [
    "def get_movie_comments(n_limit=-1):\n",
    "\n",
    "    fname = 'C:/Users/hp/Desktop/navermovie_comments/data/data_small.txt'\n",
    "\n",
    "    with open(fname, encoding='utf-8') as f:\n",
    "        idxs = []\n",
    "        scores = []\n",
    "        texts = []\n",
    "\n",
    "        for i, doc in enumerate(f):\n",
    "            if n_limit > 0 and i >= n_limit:\n",
    "                break\n",
    "\n",
    "            try:\n",
    "                idx, text, score = doc.strip().split('\\t')\n",
    "                idxs.append(idx)\n",
    "                texts.append(text)\n",
    "                scores.append(int(score))\n",
    "            except Exception as e:\n",
    "                print(e)\n",
    "                continue\n",
    "\n",
    "    return idxs, texts, scores\n"
   ]
  },
  {
   "cell_type": "code",
   "execution_count": 3,
   "metadata": {},
   "outputs": [],
   "source": [
    "idxs, texts, scores = get_movie_comments(n_limit=5000)"
   ]
  },
  {
   "cell_type": "code",
   "execution_count": 4,
   "metadata": {},
   "outputs": [
    {
     "data": {
      "text/plain": [
       "['이건', '테스트']"
      ]
     },
     "execution_count": 4,
     "metadata": {},
     "output_type": "execute_result"
    }
   ],
   "source": [
    "from collections import defaultdict\n",
    "from pprint import pprint\n",
    "from konlpy.tag import Komoran\n",
    "\n",
    "#명사 추출. type은 list of str\n",
    "komoran = Komoran()\n",
    "komoran.nouns('이건 테스트입니다')"
   ]
  },
  {
   "cell_type": "code",
   "execution_count": 5,
   "metadata": {},
   "outputs": [
    {
     "name": "stdout",
     "output_type": "stream",
     "text": [
      "num of nouns: 3290\n"
     ]
    }
   ],
   "source": [
    "# collections.Counter 를 이용하여 한 번에 명사의 개수를 세어 봅시다.\n",
    "\n",
    "\n",
    "from collections import Counter\n",
    "\n",
    "noun_counter = Counter(\n",
    "    [noun for text in texts for noun in komoran.nouns(text)]\n",
    ")\n",
    "\n",
    "print('num of nouns: %d' % len(noun_counter))"
   ]
  },
  {
   "cell_type": "code",
   "execution_count": 6,
   "metadata": {},
   "outputs": [
    {
     "name": "stdout",
     "output_type": "stream",
     "text": [
      "num of nouns (min_count = 2): 1695\n",
      "num of nouns (min_count = 3): 1181\n",
      "num of nouns (min_count = 5): 758\n",
      "num of nouns (min_count = 10): 417\n"
     ]
    }
   ],
   "source": [
    "#term frequency matrix 를 만들 때, 거의 등장하지 않는 단어들은 의미가 없습니다. min count 를 설정하여 각 threshold 별로 몇 개의 명사가 살아남는지 알아봅니다.\n",
    "\n",
    "for min_count in [2, 3, 5, 10]:\n",
    "    _counter = {\n",
    "        word for word, freq in noun_counter.items()\n",
    "        if freq >= min_count\n",
    "    }\n",
    "    print('num of nouns (min_count = %d): %d' % (\n",
    "        min_count, len(_counter)))"
   ]
  },
  {
   "cell_type": "markdown",
   "metadata": {},
   "source": [
    "우리는 2번 이상 나오는 1695 개의 명사를 이용하여 term frequency matrix 를 만들어 봅니다. 우리는 전체 문서에서의 빈도수가 2 이상인 명사만을 return 하는 토크나이저를 만들 것입니다.\n",
    "\n",
    "Komoran.nouns() 와 custom_tokenizer의 결과가 달라짐을 확인할 수 있습니다."
   ]
  },
  {
   "cell_type": "code",
   "execution_count": 7,
   "metadata": {},
   "outputs": [
    {
     "name": "stdout",
     "output_type": "stream",
     "text": [
      "['인셉션', '크리스토퍼', '감독', '신작', '인터스텔라', '이번', '주', '일요일', '완전', '기대', '중']\n",
      "['인셉션', '크리스토퍼', '감독', '신작', '인터스텔라', '이번', '주', '완전', '기대', '중']\n"
     ]
    }
   ],
   "source": [
    "noun_dict = {\n",
    "    word for word, freq in noun_counter.items()\n",
    "    if freq >= 2\n",
    "}\n",
    "\n",
    "def custom_tokenizer(doc):\n",
    "    return [word for word in komoran.nouns(doc) if word in noun_dict]\n",
    "\n",
    "print(komoran.nouns(texts[1]))\n",
    "print(custom_tokenizer(texts[1]))"
   ]
  },
  {
   "cell_type": "code",
   "execution_count": 50,
   "metadata": {},
   "outputs": [
    {
     "data": {
      "text/plain": [
       "<function __main__.custom_tokenizer(doc)>"
      ]
     },
     "execution_count": 50,
     "metadata": {},
     "output_type": "execute_result"
    }
   ],
   "source": [
    "custom_tokenizer"
   ]
  },
  {
   "cell_type": "code",
   "execution_count": 8,
   "metadata": {},
   "outputs": [
    {
     "data": {
      "text/plain": [
       "1695"
      ]
     },
     "execution_count": 8,
     "metadata": {},
     "output_type": "execute_result"
    }
   ],
   "source": [
    "len(noun_dict)"
   ]
  },
  {
   "cell_type": "markdown",
   "metadata": {},
   "source": [
    "CountVectorizer 는 document frequency 를 기준으로 대부분 문서에 등장하거나 거의 등장하지 않는 극단적인 단어들을 제거할 수 있습니다. min_df 와 max_df 를 이용하면 되며, df 는 비율입니다. [0, 1] 사이의 값을 입력해야 합니다.\n",
    "\n",
    "CountVectorizer 의 argument tokenizer 는 str 형식의 문장이 들어왔을 때 이를 list of str 형식의 단어열로 변형하는 함수입니다. 기본값은 lambda x:x.split()으로 띄어쓰기 기준으로 단어를 나눕니다. 우리가 만든 custom_tokenizer 를 이용하여 빈도수가 2 이상인 명사들만을 return 하는 토크나이저로 이를 대체합니다."
   ]
  },
  {
   "cell_type": "code",
   "execution_count": 9,
   "metadata": {},
   "outputs": [
    {
     "data": {
      "text/plain": [
       "'\\nx_sparse 는 scipy 의 sparse matrix 입니다. Sparse matrix 는 0 값이 많은 행렬에 대하여 0 이 아닌 (i, j) 의 값만을 저장한 \\nmatrix 를 의미합니다. Term frequency matrix 는 very sparse matrix 에 속하므로 dense matrix 보다 sparse matrix 가 훨씬 효율적입니다.\\ndense matrix 는 문서의 양이 조금만 커도 매우 큰 메모리가 필요합니다.\\n'"
      ]
     },
     "execution_count": 9,
     "metadata": {},
     "output_type": "execute_result"
    }
   ],
   "source": [
    "from sklearn.feature_extraction.text import CountVectorizer\n",
    "\n",
    "vectorizer = CountVectorizer(\n",
    "    tokenizer=custom_tokenizer,\n",
    "    min_df=0.005,\n",
    "    max_df=0.95\n",
    ")\n",
    "\n",
    "x_sparse = vectorizer.fit_transform(texts)\n",
    "\n",
    "'''\n",
    "x_sparse 는 scipy 의 sparse matrix 입니다. Sparse matrix 는 0 값이 많은 행렬에 대하여 0 이 아닌 (i, j) 의 값만을 저장한 \n",
    "matrix 를 의미합니다. Term frequency matrix 는 very sparse matrix 에 속하므로 dense matrix 보다 sparse matrix 가 훨씬 효율적입니다.\n",
    "dense matrix 는 문서의 양이 조금만 커도 매우 큰 메모리가 필요합니다.\n",
    "'''"
   ]
  },
  {
   "cell_type": "code",
   "execution_count": 10,
   "metadata": {},
   "outputs": [
    {
     "data": {
      "text/plain": [
       "scipy.sparse.csr.csr_matrix"
      ]
     },
     "execution_count": 10,
     "metadata": {},
     "output_type": "execute_result"
    }
   ],
   "source": [
    "type(x_sparse)"
   ]
  },
  {
   "cell_type": "code",
   "execution_count": 11,
   "metadata": {},
   "outputs": [
    {
     "data": {
      "text/plain": [
       "{'크리스토퍼': 162,\n",
       " '인셉션': 125,\n",
       " '감독': 3,\n",
       " '인터스텔라': 126,\n",
       " '완전': 108,\n",
       " '기대': 26,\n",
       " '중': 143,\n",
       " '작품': 132,\n",
       " '감탄': 6,\n",
       " '오늘': 106,\n",
       " '배우': 63,\n",
       " '안': 91,\n",
       " '수': 82,\n",
       " '영화': 100,\n",
       " '극장': 24,\n",
       " '거': 11,\n",
       " '게': 14,\n",
       " '점': 137,\n",
       " '개': 8,\n",
       " '놀라': 35,\n",
       " '이상': 117,\n",
       " '자': 129,\n",
       " '다': 39,\n",
       " '그래비티': 23,\n",
       " '생각': 75,\n",
       " '데': 43,\n",
       " '평점': 165,\n",
       " '때': 49,\n",
       " '최고': 158,\n",
       " '작': 131,\n",
       " '동안': 45,\n",
       " '소름': 79,\n",
       " '번': 64,\n",
       " '중간': 144,\n",
       " '부분': 66,\n",
       " '눈물': 37,\n",
       " '장면': 133,\n",
       " '분': 68,\n",
       " '시간': 86,\n",
       " '정도': 138,\n",
       " '몰입': 59,\n",
       " '끝': 30,\n",
       " '설명': 76,\n",
       " '예': 104,\n",
       " '애': 93,\n",
       " '개봉': 9,\n",
       " '평': 164,\n",
       " '다크': 40,\n",
       " '나이트': 31,\n",
       " '것': 13,\n",
       " '내용': 33,\n",
       " '우주': 109,\n",
       " '꿀': 29,\n",
       " '만큼': 56,\n",
       " '실망': 89,\n",
       " '듯': 46,\n",
       " '일': 127,\n",
       " '영화로': 102,\n",
       " '천재': 155,\n",
       " '느낌': 38,\n",
       " '년': 34,\n",
       " '전': 135,\n",
       " '돈': 44,\n",
       " '건': 12,\n",
       " '처음': 154,\n",
       " '한스': 169,\n",
       " '짐머': 151,\n",
       " '이건': 114,\n",
       " '추천': 160,\n",
       " '지구': 146,\n",
       " '이': 113,\n",
       " '이다': 115,\n",
       " '웜홀': 110,\n",
       " '각본': 2,\n",
       " '조나단': 140,\n",
       " '말': 57,\n",
       " '필요': 167,\n",
       " '사람': 71,\n",
       " '예고편': 105,\n",
       " '기분': 27,\n",
       " '아이맥스': 90,\n",
       " '은': 111,\n",
       " '상상': 73,\n",
       " '대작': 42,\n",
       " '영화관': 101,\n",
       " '만': 55,\n",
       " '볼': 65,\n",
       " '한': 168,\n",
       " '관심': 21,\n",
       " '완벽': 107,\n",
       " '내': 32,\n",
       " '이영화': 119,\n",
       " '정말': 139,\n",
       " '명작': 58,\n",
       " '인류': 123,\n",
       " '마지막': 54,\n",
       " '이야기': 118,\n",
       " '반전': 62,\n",
       " '마음': 53,\n",
       " '진심': 149,\n",
       " '후회': 172,\n",
       " '대박': 41,\n",
       " '인간': 122,\n",
       " '자체': 130,\n",
       " '진짜': 150,\n",
       " '인생': 124,\n",
       " '세상': 78,\n",
       " '이해': 121,\n",
       " '급': 25,\n",
       " '시공간': 87,\n",
       " '때문': 50,\n",
       " '사랑': 72,\n",
       " '감동': 4,\n",
       " '안보': 92,\n",
       " '추': 159,\n",
       " '세계': 77,\n",
       " '눈': 36,\n",
       " '강': 7,\n",
       " '재미': 134,\n",
       " '영상미': 99,\n",
       " '가족': 1,\n",
       " '등': 47,\n",
       " '스토리': 85,\n",
       " '공부': 18,\n",
       " '블랙홀': 69,\n",
       " '영상': 98,\n",
       " '음악': 112,\n",
       " '러닝': 52,\n",
       " '타임': 163,\n",
       " '미래': 61,\n",
       " '지금': 147,\n",
       " '줄': 142,\n",
       " '부족': 67,\n",
       " '이론': 116,\n",
       " '지': 145,\n",
       " '이유': 120,\n",
       " '굿': 22,\n",
       " '스케일': 84,\n",
       " '뿐': 70,\n",
       " '상상력': 74,\n",
       " '기억': 28,\n",
       " '전율': 136,\n",
       " '소재': 80,\n",
       " '신비': 88,\n",
       " '최': 157,\n",
       " '고의': 16,\n",
       " '후': 171,\n",
       " '수준': 83,\n",
       " '감사': 5,\n",
       " '흥미': 173,\n",
       " '차원': 153,\n",
       " '현실': 170,\n",
       " '연기': 96,\n",
       " '라고': 51,\n",
       " '딸': 48,\n",
       " '쿠퍼': 161,\n",
       " '연출': 97,\n",
       " '표현': 166,\n",
       " '역대': 95,\n",
       " '경이': 15,\n",
       " '관람객': 20,\n",
       " '과학': 19,\n",
       " '존재': 141,\n",
       " '초반': 156,\n",
       " '공간': 17,\n",
       " '5차원': 0,\n",
       " '지식': 148,\n",
       " '개인': 10,\n",
       " '영화인': 103,\n",
       " '여운': 94,\n",
       " '입': 128,\n",
       " '속': 81,\n",
       " '물리학': 60,\n",
       " '집중': 152}"
      ]
     },
     "execution_count": 11,
     "metadata": {},
     "output_type": "execute_result"
    }
   ],
   "source": [
    "#vectorizer.vocabulary_ 는 dict 형식으로, {word:index} 입니다.\n",
    "vectorizer.vocabulary_"
   ]
  },
  {
   "cell_type": "code",
   "execution_count": 12,
   "metadata": {},
   "outputs": [
    {
     "data": {
      "text/plain": [
       "100"
      ]
     },
     "execution_count": 12,
     "metadata": {},
     "output_type": "execute_result"
    }
   ],
   "source": [
    "#이를 이용하여 vocab to index, index to vocab 을 만들어 봅니다. \n",
    "\n",
    "vocab2int = vectorizer.vocabulary_\n",
    "vocab2int['영화']"
   ]
  },
  {
   "cell_type": "code",
   "execution_count": 13,
   "metadata": {},
   "outputs": [
    {
     "data": {
      "text/plain": [
       "'영화'"
      ]
     },
     "execution_count": 13,
     "metadata": {},
     "output_type": "execute_result"
    }
   ],
   "source": [
    "# index 는 0 부터 시작합니다. 그러므로 int2vocab 은 dictionary 형태보다 list 형태로 가지고 있어도 좋습니다. \n",
    "#이를 위해 sorted 함수를 이용합니다. 100 번째 단어가 '영화'임을 다시 확인할 수 있습니다.\n",
    "\n",
    "int2vocab = [\n",
    "    word for word,index in sorted(\n",
    "        vocab2int.items(), key=lambda x:x[1])\n",
    "]\n",
    "int2vocab[100]"
   ]
  },
  {
   "cell_type": "code",
   "execution_count": 52,
   "metadata": {},
   "outputs": [
    {
     "data": {
      "text/plain": [
       "['5차원',\n",
       " '가족',\n",
       " '각본',\n",
       " '감독',\n",
       " '감동',\n",
       " '감사',\n",
       " '감탄',\n",
       " '강',\n",
       " '개',\n",
       " '개봉',\n",
       " '개인',\n",
       " '거',\n",
       " '건',\n",
       " '것',\n",
       " '게',\n",
       " '경이',\n",
       " '고의',\n",
       " '공간',\n",
       " '공부',\n",
       " '과학',\n",
       " '관람객',\n",
       " '관심',\n",
       " '굿',\n",
       " '그래비티',\n",
       " '극장',\n",
       " '급',\n",
       " '기대',\n",
       " '기분',\n",
       " '기억',\n",
       " '꿀',\n",
       " '끝',\n",
       " '나이트',\n",
       " '내',\n",
       " '내용',\n",
       " '년',\n",
       " '놀라',\n",
       " '눈',\n",
       " '눈물',\n",
       " '느낌',\n",
       " '다',\n",
       " '다크',\n",
       " '대박',\n",
       " '대작',\n",
       " '데',\n",
       " '돈',\n",
       " '동안',\n",
       " '듯',\n",
       " '등',\n",
       " '딸',\n",
       " '때',\n",
       " '때문',\n",
       " '라고',\n",
       " '러닝',\n",
       " '마음',\n",
       " '마지막',\n",
       " '만',\n",
       " '만큼',\n",
       " '말',\n",
       " '명작',\n",
       " '몰입',\n",
       " '물리학',\n",
       " '미래',\n",
       " '반전',\n",
       " '배우',\n",
       " '번',\n",
       " '볼',\n",
       " '부분',\n",
       " '부족',\n",
       " '분',\n",
       " '블랙홀',\n",
       " '뿐',\n",
       " '사람',\n",
       " '사랑',\n",
       " '상상',\n",
       " '상상력',\n",
       " '생각',\n",
       " '설명',\n",
       " '세계',\n",
       " '세상',\n",
       " '소름',\n",
       " '소재',\n",
       " '속',\n",
       " '수',\n",
       " '수준',\n",
       " '스케일',\n",
       " '스토리',\n",
       " '시간',\n",
       " '시공간',\n",
       " '신비',\n",
       " '실망',\n",
       " '아이맥스',\n",
       " '안',\n",
       " '안보',\n",
       " '애',\n",
       " '여운',\n",
       " '역대',\n",
       " '연기',\n",
       " '연출',\n",
       " '영상',\n",
       " '영상미',\n",
       " '영화',\n",
       " '영화관',\n",
       " '영화로',\n",
       " '영화인',\n",
       " '예',\n",
       " '예고편',\n",
       " '오늘',\n",
       " '완벽',\n",
       " '완전',\n",
       " '우주',\n",
       " '웜홀',\n",
       " '은',\n",
       " '음악',\n",
       " '이',\n",
       " '이건',\n",
       " '이다',\n",
       " '이론',\n",
       " '이상',\n",
       " '이야기',\n",
       " '이영화',\n",
       " '이유',\n",
       " '이해',\n",
       " '인간',\n",
       " '인류',\n",
       " '인생',\n",
       " '인셉션',\n",
       " '인터스텔라',\n",
       " '일',\n",
       " '입',\n",
       " '자',\n",
       " '자체',\n",
       " '작',\n",
       " '작품',\n",
       " '장면',\n",
       " '재미',\n",
       " '전',\n",
       " '전율',\n",
       " '점',\n",
       " '정도',\n",
       " '정말',\n",
       " '조나단',\n",
       " '존재',\n",
       " '줄',\n",
       " '중',\n",
       " '중간',\n",
       " '지',\n",
       " '지구',\n",
       " '지금',\n",
       " '지식',\n",
       " '진심',\n",
       " '진짜',\n",
       " '짐머',\n",
       " '집중',\n",
       " '차원',\n",
       " '처음',\n",
       " '천재',\n",
       " '초반',\n",
       " '최',\n",
       " '최고',\n",
       " '추',\n",
       " '추천',\n",
       " '쿠퍼',\n",
       " '크리스토퍼',\n",
       " '타임',\n",
       " '평',\n",
       " '평점',\n",
       " '표현',\n",
       " '필요',\n",
       " '한',\n",
       " '한스',\n",
       " '현실',\n",
       " '후',\n",
       " '후회',\n",
       " '흥미']"
      ]
     },
     "execution_count": 52,
     "metadata": {},
     "output_type": "execute_result"
    }
   ],
   "source": [
    "int2vocab"
   ]
  },
  {
   "cell_type": "markdown",
   "metadata": {},
   "source": [
    "scipy.io 는 sparse matrix 를 읽고 쓰는 기능을 제공합니다. mmwrite 는 sparse matrix 를 filepath 에 저장합니다. 그런데 filepath 의 경로에 directory 가 존재하지 않는다면 오류가 발생합니다. 이를 방지하기 위해서 path 가 존재하는지 확인하고, directory 가 존재하지 않을 경우 이를 만들어야 합니다."
   ]
  },
  {
   "cell_type": "code",
   "execution_count": 14,
   "metadata": {},
   "outputs": [],
   "source": [
    "import os\n",
    "from scipy.io import mmwrite, mmread\n",
    "\n",
    "if not os.path.exists('tmp/'):\n",
    "    os.makedirs('tmp')\n",
    "\n",
    "mmwrite('./tmp/x.mm', x_sparse)"
   ]
  },
  {
   "cell_type": "code",
   "execution_count": 15,
   "metadata": {},
   "outputs": [
    {
     "data": {
      "text/plain": [
       "<5000x174 sparse matrix of type '<class 'numpy.int64'>'\n",
       "\twith 16161 stored elements in Compressed Sparse Row format>"
      ]
     },
     "execution_count": 15,
     "metadata": {},
     "output_type": "execute_result"
    }
   ],
   "source": [
    "#mmread 는 filepath 의 sparse matrix 를 읽습니다. 그런데 mmread 의 형식은 COO matrix 입니다. 이를 CSR matrix 로 바꾸기 위해 tocsr 함수를 이용합니다.\n",
    "\n",
    "loaded_x_sparse = mmread('./tmp/x.mm').tocsr()\n",
    "loaded_x_sparse\n"
   ]
  },
  {
   "cell_type": "code",
   "execution_count": 16,
   "metadata": {},
   "outputs": [],
   "source": [
    "#vectorizer 는 pickling 으로 저장하여도 좋습니다. vocabulary list 는 따로 list 파일로 저장해도 좋습니다."
   ]
  },
  {
   "cell_type": "code",
   "execution_count": 17,
   "metadata": {},
   "outputs": [],
   "source": [
    "import pickle\n",
    "\n",
    "with open('./tmp/vectorizer.pkl', 'wb') as f:\n",
    "    pickle.dump(vectorizer, f)\n",
    "\n",
    "with open('./tmp/vocabulary.txt', 'w', encoding='utf-8') as f:\n",
    "    for vocab in int2vocab:\n",
    "        f.write('%s\\n' % vocab)"
   ]
  },
  {
   "cell_type": "code",
   "execution_count": 18,
   "metadata": {},
   "outputs": [
    {
     "name": "stdout",
     "output_type": "stream",
     "text": [
      "100\n"
     ]
    }
   ],
   "source": [
    "\n",
    "with open('./tmp/vectorizer.pkl', 'rb') as f:\n",
    "    loaded_vectorizer = pickle.load(f)\n",
    "\n",
    "print(loaded_vectorizer.vocabulary_['영화'])"
   ]
  },
  {
   "cell_type": "code",
   "execution_count": 19,
   "metadata": {},
   "outputs": [
    {
     "name": "stdout",
     "output_type": "stream",
     "text": [
      "5차원\n",
      "가족\n",
      "각본\n",
      "감독\n",
      "감동\n"
     ]
    }
   ],
   "source": [
    "with open('./tmp/vocabulary.txt', encoding='utf-8') as f:\n",
    "    for _ in range(5):\n",
    "        print(next(f).strip())"
   ]
  },
  {
   "cell_type": "markdown",
   "metadata": {},
   "source": [
    "# 뉴스요약하기"
   ]
  },
  {
   "cell_type": "code",
   "execution_count": 57,
   "metadata": {},
   "outputs": [],
   "source": [
    "from textrank import KeywordSummarizer\n",
    "from textrank import KeysentenceSummarizer"
   ]
  },
  {
   "cell_type": "code",
   "execution_count": 55,
   "metadata": {},
   "outputs": [],
   "source": [
    "sents = [\n",
    "    '오패산터널 총격전 용의자 검거 서울 연합뉴스 경찰 관계자들이 19일 오후 서울 강북구 오패산 터널 인근에서 사제 총기를 발사해 경찰을 살해한 용의자 성모씨를 검거하고 있다 성씨는 검거 당시 서바이벌 게임에서 쓰는 방탄조끼에 헬멧까지 착용한 상태였다',\n",
    "    '서울 연합뉴스 김은경 기자 사제 총기로 경찰을 살해한 범인 성모 46 씨는 주도면밀했다',\n",
    "    '경찰에 따르면 성씨는 19일 오후 강북경찰서 인근 부동산 업소 밖에서 부동산업자 이모 67 씨가 나오기를 기다렸다 이씨와는 평소에도 말다툼을 자주 한 것으로 알려졌다',\n",
    "    '이씨가 나와 걷기 시작하자 성씨는 따라가면서 미리 준비해온 사제 총기를 이씨에게 발사했다 총알이 빗나가면서 이씨는 도망갔다 그 빗나간 총알은 지나가던 행인 71 씨의 배를 스쳤다',\n",
    "    '성씨는 강북서 인근 치킨집까지 이씨 뒤를 쫓으며 실랑이하다 쓰러뜨린 후 총기와 함께 가져온 망치로 이씨 머리를 때렸다',\n",
    "    '이 과정에서 오후 6시 20분께 강북구 번동 길 위에서 사람들이 싸우고 있다 총소리가 났다 는 등의 신고가 여러건 들어왔다',\n",
    "    '5분 후에 성씨의 전자발찌가 훼손됐다는 신고가 보호관찰소 시스템을 통해 들어왔다 성범죄자로 전자발찌를 차고 있던 성씨는 부엌칼로 직접 자신의 발찌를 끊었다',\n",
    "    '용의자 소지 사제총기 2정 서울 연합뉴스 임헌정 기자 서울 시내에서 폭행 용의자가 현장 조사를 벌이던 경찰관에게 사제총기를 발사해 경찰관이 숨졌다 19일 오후 6시28분 강북구 번동에서 둔기로 맞았다 는 폭행 피해 신고가 접수돼 현장에서 조사하던 강북경찰서 번동파출소 소속 김모 54 경위가 폭행 용의자 성모 45 씨가 쏜 사제총기에 맞고 쓰러진 뒤 병원에 옮겨졌으나 숨졌다 사진은 용의자가 소지한 사제총기',\n",
    "    '신고를 받고 번동파출소에서 김창호 54 경위 등 경찰들이 오후 6시 29분께 현장으로 출동했다 성씨는 그사이 부동산 앞에 놓아뒀던 가방을 챙겨 오패산 쪽으로 도망간 후였다',\n",
    "    '김 경위는 오패산 터널 입구 오른쪽의 급경사에서 성씨에게 접근하다가 오후 6시 33분께 풀숲에 숨은 성씨가 허공에 난사한 10여발의 총알 중 일부를 왼쪽 어깨 뒷부분에 맞고 쓰러졌다',\n",
    "    '김 경위는 구급차가 도착했을 때 이미 의식이 없었고 심폐소생술을 하며 병원으로 옮겨졌으나 총알이 폐를 훼손해 오후 7시 40분께 사망했다',\n",
    "    '김 경위는 외근용 조끼를 입고 있었으나 총알을 막기에는 역부족이었다',\n",
    "    '머리에 부상을 입은 이씨도 함께 병원으로 이송됐으나 생명에는 지장이 없는 것으로 알려졌다',\n",
    "    '성씨는 오패산 터널 밑쪽 숲에서 오후 6시 45분께 잡혔다',\n",
    "    '총격현장 수색하는 경찰들 서울 연합뉴스 이효석 기자 19일 오후 서울 강북구 오패산 터널 인근에서 경찰들이 폭행 용의자가 사제총기를 발사해 경찰관이 사망한 사건을 조사 하고 있다',\n",
    "    '총 때문에 쫓던 경관들과 민간인들이 몸을 숨겼는데 인근 신발가게 직원 이모씨가 다가가 성씨를 덮쳤고 이어 현장에 있던 다른 상인들과 경찰이 가세해 체포했다',\n",
    "    '성씨는 경찰에 붙잡힌 직후 나 자살하려고 한 거다 맞아 죽어도 괜찮다 고 말한 것으로 전해졌다',\n",
    "    '성씨 자신도 경찰이 발사한 공포탄 1발 실탄 3발 중 실탄 1발을 배에 맞았으나 방탄조끼를 입은 상태여서 부상하지는 않았다',\n",
    "    '경찰은 인근을 수색해 성씨가 만든 사제총 16정과 칼 7개를 압수했다 실제 폭발할지는 알 수 없는 요구르트병에 무언가를 채워두고 심지를 꽂은 사제 폭탄도 발견됐다',\n",
    "    '일부는 숲에서 발견됐고 일부는 성씨가 소지한 가방 안에 있었다'\n",
    "]"
   ]
  },
  {
   "cell_type": "code",
   "execution_count": 58,
   "metadata": {},
   "outputs": [],
   "source": [
    "from konlpy.tag import Komoran\n",
    "\n",
    "komoran = Komoran()\n",
    "def komoran_tokenizer(sent):\n",
    "    words = komoran.pos(sent, join=True)\n",
    "    words = [w for w in words if ('/NN' in w or '/XR' in w or '/VA' in w or '/VV' in w)]\n",
    "    return words\n",
    "\n",
    "summarizer = KeysentenceSummarizer(\n",
    "    tokenize = komoran_tokenizer,\n",
    "    min_sim = 0.3,\n",
    "    verbose = False\n",
    ")\n",
    "\n",
    "keysents = summarizer.summarize(sents, topk=3)"
   ]
  },
  {
   "cell_type": "code",
   "execution_count": 59,
   "metadata": {},
   "outputs": [
    {
     "data": {
      "text/plain": [
       "[(0,\n",
       "  1.7010195551998453,\n",
       "  '오패산터널 총격전 용의자 검거 서울 연합뉴스 경찰 관계자들이 19일 오후 서울 강북구 오패산 터널 인근에서 사제 총기를 발사해 경찰을 살해한 용의자 성모씨를 검거하고 있다 성씨는 검거 당시 서바이벌 게임에서 쓰는 방탄조끼에 헬멧까지 착용한 상태였다'),\n",
       " (7,\n",
       "  1.4886043194936454,\n",
       "  '용의자 소지 사제총기 2정 서울 연합뉴스 임헌정 기자 서울 시내에서 폭행 용의자가 현장 조사를 벌이던 경찰관에게 사제총기를 발사해 경찰관이 숨졌다 19일 오후 6시28분 강북구 번동에서 둔기로 맞았다 는 폭행 피해 신고가 접수돼 현장에서 조사하던 강북경찰서 번동파출소 소속 김모 54 경위가 폭행 용의자 성모 45 씨가 쏜 사제총기에 맞고 쓰러진 뒤 병원에 옮겨졌으나 숨졌다 사진은 용의자가 소지한 사제총기'),\n",
       " (8,\n",
       "  1.4278590385659577,\n",
       "  '신고를 받고 번동파출소에서 김창호 54 경위 등 경찰들이 오후 6시 29분께 현장으로 출동했다 성씨는 그사이 부동산 앞에 놓아뒀던 가방을 챙겨 오패산 쪽으로 도망간 후였다')]"
      ]
     },
     "execution_count": 59,
     "metadata": {},
     "output_type": "execute_result"
    }
   ],
   "source": [
    "keysents"
   ]
  },
  {
   "cell_type": "code",
   "execution_count": 60,
   "metadata": {},
   "outputs": [
    {
     "data": {
      "text/plain": [
       "[('용의자/NNP', 3.040833543583403),\n",
       " ('사제총/NNP', 2.505798518168069),\n",
       " ('성씨/NNP', 2.4254730689696298),\n",
       " ('서울/NNP', 2.399522533743009),\n",
       " ('경찰/NNG', 2.2541631612221043),\n",
       " ('오후/NNG', 2.154778397410354),\n",
       " ('폭행/NNG', 1.9019818685234693),\n",
       " ('씨/NNB', 1.7517679455874249),\n",
       " ('발사/NNG', 1.658959293729613),\n",
       " ('맞/VV', 1.618499063577056),\n",
       " ('분/NNB', 1.6164369966921637),\n",
       " ('번동/NNP', 1.4681655196749035),\n",
       " ('현장/NNG', 1.4530182347939307),\n",
       " ('시/NNB', 1.408892735491178),\n",
       " ('경찰관/NNP', 1.4012941012332316),\n",
       " ('조사/NNG', 1.4012941012332316),\n",
       " ('일/NNB', 1.3922748983755766),\n",
       " ('강북구/NNP', 1.332317291003927),\n",
       " ('연합뉴스/NNP', 1.3259099432277819),\n",
       " ('이씨/NNP', 1.2869280494707418)]"
      ]
     },
     "execution_count": 60,
     "metadata": {},
     "output_type": "execute_result"
    }
   ],
   "source": [
    "from textrank import KeywordSummarizer\n",
    "\n",
    "summarizer = KeywordSummarizer(tokenize=komoran_tokenizer, min_count=2, min_cooccurrence=1)\n",
    "summarizer.summarize(sents, topk=20)"
   ]
  },
  {
   "cell_type": "code",
   "execution_count": null,
   "metadata": {},
   "outputs": [],
   "source": []
  },
  {
   "cell_type": "code",
   "execution_count": null,
   "metadata": {},
   "outputs": [],
   "source": []
  },
  {
   "cell_type": "code",
   "execution_count": null,
   "metadata": {},
   "outputs": [],
   "source": []
  }
 ],
 "metadata": {
  "kernelspec": {
   "display_name": "Python 3",
   "language": "python",
   "name": "python3"
  },
  "language_info": {
   "codemirror_mode": {
    "name": "ipython",
    "version": 3
   },
   "file_extension": ".py",
   "mimetype": "text/x-python",
   "name": "python",
   "nbconvert_exporter": "python",
   "pygments_lexer": "ipython3",
   "version": "3.7.4"
  }
 },
 "nbformat": 4,
 "nbformat_minor": 4
}
